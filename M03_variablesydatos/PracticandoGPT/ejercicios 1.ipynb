{
 "cells": [
  {
   "cell_type": "code",
   "execution_count": null,
   "metadata": {},
   "outputs": [],
   "source": [
    "#Escribe un programa que le pida al usuario un número entero e imprima si es positivo, negativo o cero.\n",
    "\n",
    "num= int(input(\"Escriba un número entero: \"))\n",
    "\n",
    "if num > 0:\n",
    "    print(\"Es un número positivo\")\n",
    "  \n",
    "elif num < 0:\n",
    "    print()"
   ]
  }
 ],
 "metadata": {
  "language_info": {
   "name": "python"
  },
  "orig_nbformat": 4
 },
 "nbformat": 4,
 "nbformat_minor": 2
}
