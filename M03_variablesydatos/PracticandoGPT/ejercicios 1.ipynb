{
 "cells": [
  {
   "cell_type": "code",
   "execution_count": null,
   "metadata": {},
   "outputs": [],
   "source": [
    "#Escribe un programa que le pida al usuario un número entero e imprima si es positivo, negativo o cero.\n",
    "\n",
    "num= int(input(\"Escriba un número entero: \"))\n",
    "\n",
    "if num > 0:\n",
    "    print(\"Es un número positivo\")\n",
    "  \n",
    "elif num < 0:\n",
    "    print()"
   ]
  },
  {
   "cell_type": "code",
   "execution_count": 3,
   "metadata": {},
   "outputs": [
    {
     "name": "stdout",
     "output_type": "stream",
     "text": [
      "pt eres una momia\n"
     ]
    }
   ],
   "source": [
    "#Ejercicio 4: Escribe un programa que pida al usuario su edad y determine si es un niño (0-12 años), adolescente (13-17 años), adulto joven (18-29 años), adulto (30-64 años) o adulto mayor (65 años o más).\n",
    "\n",
    "edad = int(input(\"Por favor inserte su edad: \"))\n",
    "\n",
    "if edad <=12:\n",
    "    print(\"Es un niño :D\")\n",
    "elif (edad >= 13) and (edad <= 17):\n",
    "    print(\"Es un adolescente :)\")\n",
    "elif (edad >=18) and (edad <= 29):\n",
    "    print(\"Es adulto joven :):\")\n",
    "elif (edad >= 30) and (edad <= 64):\n",
    "    print(\"Es adulto :|\")\n",
    "elif edad >= 65 and edad <=99:\n",
    "    print(\"adulto mayor D:\")\n",
    "else:\n",
    "    print(\"pt eres una momia\")"
   ]
  }
 ],
 "metadata": {
  "kernelspec": {
   "display_name": "Python 3",
   "language": "python",
   "name": "python3"
  },
  "language_info": {
   "codemirror_mode": {
    "name": "ipython",
    "version": 3
   },
   "file_extension": ".py",
   "mimetype": "text/x-python",
   "name": "python",
   "nbconvert_exporter": "python",
   "pygments_lexer": "ipython3",
   "version": "3.11.4"
  },
  "orig_nbformat": 4
 },
 "nbformat": 4,
 "nbformat_minor": 2
}
