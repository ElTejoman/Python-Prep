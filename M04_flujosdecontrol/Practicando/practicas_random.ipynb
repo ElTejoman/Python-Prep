{
 "cells": [
  {
   "cell_type": "code",
   "execution_count": 2,
   "metadata": {},
   "outputs": [
    {
     "name": "stdout",
     "output_type": "stream",
     "text": [
      "elegiste bien!\n"
     ]
    }
   ],
   "source": [
    "a=int(input(\"ingresa un número\"))\n",
    "\n",
    "if a>10:\n",
    "    print(\"elegiste bien!\")\n"
   ]
  },
  {
   "cell_type": "code",
   "execution_count": 2,
   "metadata": {},
   "outputs": [
    {
     "name": "stdout",
     "output_type": "stream",
     "text": [
      "un numero neutro!\n"
     ]
    }
   ],
   "source": [
    "num= int(input(\"Escribe un numero!\"))\n",
    "\n",
    "if num<0:\n",
    "    print(\"elegiste un negativo!\")\n",
    "elif num==0:\n",
    "    print(\"un numero neutro!\")\n",
    "else:\n",
    "    print (\"Elefgiste un positivo!\")"
   ]
  },
  {
   "cell_type": "code",
   "execution_count": 7,
   "metadata": {},
   "outputs": [
    {
     "name": "stdout",
     "output_type": "stream",
     "text": [
      "10 Es menor que  20\n"
     ]
    }
   ],
   "source": [
    "#Elegir el numero mayor\n",
    "\n",
    "num1= int(input(\"elige tu primer numero\"))\n",
    "num2= int(input(\"Elige tu segundo numero\"))\n",
    "\n",
    "if num1<num2:\n",
    "    print(num1,\"Es menor que \",num2)\n",
    "elif num1>num2:\n",
    "    print(num1, \"Es mayor que \", num2)\n",
    "else:\n",
    "    print(\"ambos son iguales!\")"
   ]
  },
  {
   "cell_type": "code",
   "execution_count": 9,
   "metadata": {},
   "outputs": [
    {
     "name": "stdout",
     "output_type": "stream",
     "text": [
      "Elegiste un numero IMPAR!\n"
     ]
    }
   ],
   "source": [
    "#Escribir programa que lea numero entero e indique si es par o impar\n",
    "\n",
    "num1=int(input(\"Escribe un numero y descubre si es par o impar!\"))\n",
    "\n",
    "if num1%2 ==0:\n",
    "    print(\"Elegiste un numero PAR!\")\n",
    "elif num1%2 !=0:\n",
    "    print(\"Elegiste un numero IMPAR!\")"
   ]
  },
  {
   "cell_type": "code",
   "execution_count": 6,
   "metadata": {},
   "outputs": [
    {
     "name": "stdout",
     "output_type": "stream",
     "text": [
      "Do you like Dawn or Dusk)\n",
      "1) Dawn\n",
      "2) Dusk\n",
      "When I’m dead, I want people to remember me as: \n",
      "1) The Good\n",
      "2) The Great\n",
      "3) The Wise\n",
      "4) The Bold\n",
      "Which kind of instrument most pleases your ear?\n",
      "1) The violin\n",
      "2) The trumpet\n",
      "3) The piano\n",
      "4) The drum\n",
      "You go to Slytherin House!!!!\n"
     ]
    }
   ],
   "source": [
    "# Write code below 💖\n",
    "# Sort_hat.py\n",
    "\n",
    "#First Question\n",
    "\n",
    "gryf=0\n",
    "rav=0\n",
    "huf=0\n",
    "sly=0\n",
    "house= gryf,rav,huf,sly\n",
    "\n",
    "print(\"Do you like Dawn or Dusk)\")\n",
    "print(\"1) Dawn\") \n",
    "print(\"2) Dusk\")\n",
    "\n",
    "q1= int(input(\"Choose 1 or 2:   \"))\n",
    "\n",
    "if q1 == 1:\n",
    "  gryf += 1\n",
    "  rav += 1\n",
    "elif q1 == 2:\n",
    "  huf +=1\n",
    "  sly +=1\n",
    "else:\n",
    "  print(\"Choose only 1 or 2, not other number\")\n",
    "\n",
    "\n",
    "house= gryf,rav,huf,sly\n",
    "\n",
    "\n",
    "\n",
    "\n",
    "print(\"When I’m dead, I want people to remember me as: \")\n",
    "print(\"1) The Good\") \n",
    "print(\"2) The Great\")\n",
    "print(\"3) The Wise\")\n",
    "print(\"4) The Bold\")\n",
    "\n",
    "q2 = int(input(\"Choose 1,2,3 or 4:   \"))\n",
    "\n",
    "if q2 == 1:\n",
    "  huf +=2\n",
    "elif q2 == 2:\n",
    "  sly +=2\n",
    "elif q2 == 3:\n",
    "  rav +=2\n",
    "elif q2 == 4:\n",
    "  gryf +=2\n",
    "else:\n",
    "  print(\"please select a correct option\")\n",
    "\n",
    "\n",
    "house= gryf,rav,huf,sly\n",
    "\n",
    "\n",
    "\n",
    "print(\"Which kind of instrument most pleases your ear?\")\n",
    "print(\"1) The violin\")\n",
    "print(\"2) The trumpet\")\n",
    "print(\"3) The piano\")\n",
    "print(\"4) The drum\")\n",
    "\n",
    "q3 = int(input(\"Finally!, select a number of 1 to 4 :) \"))\n",
    "\n",
    "if q3 == 1:\n",
    "  sly +=4\n",
    "elif q3 == 2:\n",
    "  huf +=4\n",
    "elif q3 == 3:\n",
    "  rav +=4\n",
    "elif q3 == 4:\n",
    "  gryf +=4\n",
    "else:\n",
    "  print(\"please select a correct option\")\n",
    "\n",
    "\n",
    "house= gryf,rav,huf,sly\n",
    "\n",
    "\n",
    "if gryf > sly or gryf > rav or gryf > huf:\n",
    "  print(\"You go to Griffindor House!!!!\")\n",
    "elif sly > gryf or sly > rav or sly > huf:\n",
    "  print(\"You go to Slytherin House!!!!\")\n",
    "elif rav > sly or rav > gryf or rav > huf:\n",
    "  print(\"You go to Ravenclaw House!!!!\")\n",
    "elif huf > sly or huf > rav or huf > gryf:\n",
    "  print(\"You go to Hufflepuff House!!!!\")"
   ]
  }
 ],
 "metadata": {
  "kernelspec": {
   "display_name": "Python 3",
   "language": "python",
   "name": "python3"
  },
  "language_info": {
   "codemirror_mode": {
    "name": "ipython",
    "version": 3
   },
   "file_extension": ".py",
   "mimetype": "text/x-python",
   "name": "python",
   "nbconvert_exporter": "python",
   "pygments_lexer": "ipython3",
   "version": "3.11.4"
  },
  "orig_nbformat": 4
 },
 "nbformat": 4,
 "nbformat_minor": 2
}
