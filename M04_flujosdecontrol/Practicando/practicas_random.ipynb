{
 "cells": [
  {
   "cell_type": "code",
   "execution_count": 2,
   "metadata": {},
   "outputs": [
    {
     "name": "stdout",
     "output_type": "stream",
     "text": [
      "elegiste bien!\n"
     ]
    }
   ],
   "source": [
    "a=int(input(\"ingresa un número\"))\n",
    "\n",
    "if a>10:\n",
    "    print(\"elegiste bien!\")\n"
   ]
  },
  {
   "cell_type": "code",
   "execution_count": 2,
   "metadata": {},
   "outputs": [
    {
     "name": "stdout",
     "output_type": "stream",
     "text": [
      "un numero neutro!\n"
     ]
    }
   ],
   "source": [
    "num= int(input(\"Escribe un numero!\"))\n",
    "\n",
    "if num<0:\n",
    "    print(\"elegiste un negativo!\")\n",
    "elif num==0:\n",
    "    print(\"un numero neutro!\")\n",
    "else:\n",
    "    print (\"Elefgiste un positivo!\")"
   ]
  },
  {
   "cell_type": "code",
   "execution_count": 7,
   "metadata": {},
   "outputs": [
    {
     "name": "stdout",
     "output_type": "stream",
     "text": [
      "10 Es menor que  20\n"
     ]
    }
   ],
   "source": [
    "#Elegir el numero mayor\n",
    "\n",
    "num1= int(input(\"elige tu primer numero\"))\n",
    "num2= int(input(\"Elige tu segundo numero\"))\n",
    "\n",
    "if num1<num2:\n",
    "    print(num1,\"Es menor que \",num2)\n",
    "elif num1>num2:\n",
    "    print(num1, \"Es mayor que \", num2)\n",
    "else:\n",
    "    print(\"ambos son iguales!\")"
   ]
  },
  {
   "cell_type": "code",
   "execution_count": 9,
   "metadata": {},
   "outputs": [
    {
     "name": "stdout",
     "output_type": "stream",
     "text": [
      "Elegiste un numero IMPAR!\n"
     ]
    }
   ],
   "source": [
    "#Escribir programa que lea numero entero e indique si es par o impar\n",
    "\n",
    "num1=int(input(\"Escribe un numero y descubre si es par o impar!\"))\n",
    "\n",
    "if num1%2 ==0:\n",
    "    print(\"Elegiste un numero PAR!\")\n",
    "elif num1%2 !=0:\n",
    "    print(\"Elegiste un numero IMPAR!\")"
   ]
  },
  {
   "cell_type": "code",
   "execution_count": null,
   "metadata": {},
   "outputs": [],
   "source": []
  }
 ],
 "metadata": {
  "kernelspec": {
   "display_name": "Python 3",
   "language": "python",
   "name": "python3"
  },
  "language_info": {
   "codemirror_mode": {
    "name": "ipython",
    "version": 3
   },
   "file_extension": ".py",
   "mimetype": "text/x-python",
   "name": "python",
   "nbconvert_exporter": "python",
   "pygments_lexer": "ipython3",
   "version": "3.11.4"
  },
  "orig_nbformat": 4
 },
 "nbformat": 4,
 "nbformat_minor": 2
}
